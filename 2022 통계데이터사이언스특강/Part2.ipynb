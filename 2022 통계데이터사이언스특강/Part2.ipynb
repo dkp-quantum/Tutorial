{
 "cells": [
  {
   "cell_type": "markdown",
   "id": "311f1f7d",
   "metadata": {
    "slideshow": {
     "slide_type": "slide"
    },
    "toc": true
   },
   "source": [
    "<h1>Table of Contents<span class=\"tocSkip\"></span></h1>\n",
    "<div class=\"toc\"><ul class=\"toc-item\"><li><span><a href=\"#0.-Preparation\" data-toc-modified-id=\"0.-Preparation-0\">0. Preparation</a></span><ul class=\"toc-item\"><li><span><a href=\"#0.1-Install-/-Load-Packages\" data-toc-modified-id=\"0.1-Install-/-Load-Packages-0.1\">0.1 Install / Load Packages</a></span></li><li><span><a href=\"#2.1-Swap-test\" data-toc-modified-id=\"2.1-Swap-test-0.2\">2.1 Swap test</a></span><ul class=\"toc-item\"><li><span><a href=\"#2.1.1-The-procedure-of-the-Swap-Test\" data-toc-modified-id=\"2.1.1-The-procedure-of-the-Swap-Test-0.2.1\">2.1.1 The procedure of the Swap Test</a></span></li><li><span><a href=\"#2.1.2-The-quantum-circuit-of-the-Swap-test\" data-toc-modified-id=\"2.1.2-The-quantum-circuit-of-the-Swap-test-0.2.2\">2.1.2 The quantum circuit of the Swap test</a></span></li><li><span><a href=\"#Exercise-2.1:-Swap-test\" data-toc-modified-id=\"Exercise-2.1:-Swap-test-0.2.3\">Exercise 2.1: Swap test</a></span></li><li><span><a href=\"#Exercise-2.2:-Swap-test\" data-toc-modified-id=\"Exercise-2.2:-Swap-test-0.2.4\">Exercise 2.2: Swap test</a></span></li><li><span><a href=\"#Exercise-2.3:-Swap-test\" data-toc-modified-id=\"Exercise-2.3:-Swap-test-0.2.5\">Exercise 2.3: Swap test</a></span></li></ul></li><li><span><a href=\"#2.2-Hadamard-test\" data-toc-modified-id=\"2.2-Hadamard-test-0.3\">2.2 Hadamard test</a></span><ul class=\"toc-item\"><li><span><a href=\"#2.2.1-The-procedure-of-the-Hadamard-test\" data-toc-modified-id=\"2.2.1-The-procedure-of-the-Hadamard-test-0.3.1\">2.2.1 The procedure of the Hadamard test</a></span></li><li><span><a href=\"#2.2.2-The-quantum-circuit-of-the-Hadamard-Test\" data-toc-modified-id=\"2.2.2-The-quantum-circuit-of-the-Hadamard-Test-0.3.2\">2.2.2 The quantum circuit of the Hadamard Test</a></span></li><li><span><a href=\"#Exercise-2.4:-Hadamard-test\" data-toc-modified-id=\"Exercise-2.4:-Hadamard-test-0.3.3\">Exercise 2.4: Hadamard test</a></span></li><li><span><a href=\"#Exercise-2.5:-Hadamard-test\" data-toc-modified-id=\"Exercise-2.5:-Hadamard-test-0.3.4\">Exercise 2.5: Hadamard test</a></span></li></ul></li>"
   ]
  },
  {
   "cell_type": "markdown",
   "id": "64e2800d",
   "metadata": {
    "slideshow": {
     "slide_type": "slide"
    }
   },
   "source": [
    "# 0. Preparation"
   ]
  },
  {
   "cell_type": "markdown",
   "id": "3de9133c",
   "metadata": {
    "slideshow": {
     "slide_type": "slide"
    }
   },
   "source": [
    "## 0.1 Install / Load Packages\n",
    "- We need to install or load packages before running the code below."
   ]
  },
  {
   "cell_type": "code",
   "execution_count": 1,
   "id": "e878e9ee",
   "metadata": {
    "ExecuteTime": {
     "end_time": "2022-08-09T06:18:41.203488Z",
     "start_time": "2022-08-09T06:18:41.193226Z"
    },
    "slideshow": {
     "slide_type": "slide"
    }
   },
   "outputs": [],
   "source": [
    "# Install packages\n",
    "\n",
    "#!pip install numpy\n",
    "#!pip install qiskit\n",
    "#!pip install qiskit[visualization]\n",
    "#!pip install matplotlib"
   ]
  },
  {
   "cell_type": "code",
   "execution_count": 3,
   "id": "2a8cb58f",
   "metadata": {
    "ExecuteTime": {
     "end_time": "2022-08-09T06:18:42.250023Z",
     "start_time": "2022-08-09T06:18:41.204484Z"
    }
   },
   "outputs": [],
   "source": [
    "# Load packages\n",
    "## General tools\n",
    "import numpy as np\n",
    "import matplotlib\n",
    "import matplotlib.pyplot as plt\n",
    "from math import pi\n",
    "\n",
    "## Qiskit Circuit Functions\n",
    "from qiskit import *\n",
    "from qiskit.quantum_info import *\n",
    "from qiskit.visualization import *"
   ]
  },
  {
   "cell_type": "code",
   "execution_count": 4,
   "id": "201ba1ce",
   "metadata": {
    "ExecuteTime": {
     "end_time": "2022-08-09T06:18:42.265974Z",
     "start_time": "2022-08-09T06:18:42.250429Z"
    }
   },
   "outputs": [],
   "source": [
    "from qiskit.tools.monitor import backend_overview, backend_monitor, job_monitor\n",
    "from qiskit.tools.visualization import plot_gate_map, plot_error_map"
   ]
  },
  {
   "cell_type": "code",
   "execution_count": 5,
   "id": "20fd7015",
   "metadata": {
    "ExecuteTime": {
     "end_time": "2022-08-09T06:18:50.296606Z",
     "start_time": "2022-08-09T06:18:42.266975Z"
    }
   },
   "outputs": [],
   "source": [
    "# IBMQ.save_account(TOKEN)\n",
    "# provider = IBMQ.load_account()\n",
    "provider = IBMQ.load_account() # Load account from disk"
   ]
  },
  {
   "cell_type": "code",
   "execution_count": 6,
   "id": "db9b311d",
   "metadata": {
    "ExecuteTime": {
     "end_time": "2022-08-09T06:18:50.313260Z",
     "start_time": "2022-08-09T06:18:50.297611Z"
    }
   },
   "outputs": [
    {
     "data": {
      "text/plain": [
       "[<IBMQSimulator('ibmq_qasm_simulator') from IBMQ(hub='ibm-q', group='open', project='main')>,\n",
       " <IBMQBackend('ibmq_lima') from IBMQ(hub='ibm-q', group='open', project='main')>,\n",
       " <IBMQBackend('ibmq_belem') from IBMQ(hub='ibm-q', group='open', project='main')>,\n",
       " <IBMQBackend('ibmq_quito') from IBMQ(hub='ibm-q', group='open', project='main')>,\n",
       " <IBMQSimulator('simulator_statevector') from IBMQ(hub='ibm-q', group='open', project='main')>,\n",
       " <IBMQSimulator('simulator_mps') from IBMQ(hub='ibm-q', group='open', project='main')>,\n",
       " <IBMQSimulator('simulator_extended_stabilizer') from IBMQ(hub='ibm-q', group='open', project='main')>,\n",
       " <IBMQSimulator('simulator_stabilizer') from IBMQ(hub='ibm-q', group='open', project='main')>,\n",
       " <IBMQBackend('ibmq_manila') from IBMQ(hub='ibm-q', group='open', project='main')>,\n",
       " <IBMQBackend('ibm_nairobi') from IBMQ(hub='ibm-q', group='open', project='main')>,\n",
       " <IBMQBackend('ibm_oslo') from IBMQ(hub='ibm-q', group='open', project='main')>]"
      ]
     },
     "execution_count": 6,
     "metadata": {},
     "output_type": "execute_result"
    }
   ],
   "source": [
    "# # Get the list of backends available\n",
    "provider.backends()"
   ]
  },
  {
   "cell_type": "code",
   "execution_count": 7,
   "id": "2a0873fb-deb5-4c79-8464-ed73ae0fabfd",
   "metadata": {},
   "outputs": [],
   "source": [
    "provider = IBMQ.get_provider(hub='ibm-q-skku', group='yonsei-uni', project='yu-employee')"
   ]
  },
  {
   "cell_type": "code",
   "execution_count": 8,
   "id": "2da867ef-b518-4e66-aa02-e77ee9ef795e",
   "metadata": {
    "ExecuteTime": {
     "end_time": "2022-08-09T06:18:50.313260Z",
     "start_time": "2022-08-09T06:18:50.297611Z"
    }
   },
   "outputs": [
    {
     "data": {
      "text/plain": [
       "[<IBMQSimulator('ibmq_qasm_simulator') from IBMQ(hub='ibm-q-skku', group='yonsei-uni', project='yu-employee')>,\n",
       " <IBMQBackend('ibmq_montreal') from IBMQ(hub='ibm-q-skku', group='yonsei-uni', project='yu-employee')>,\n",
       " <IBMQBackend('ibmq_toronto') from IBMQ(hub='ibm-q-skku', group='yonsei-uni', project='yu-employee')>,\n",
       " <IBMQBackend('ibmq_kolkata') from IBMQ(hub='ibm-q-skku', group='yonsei-uni', project='yu-employee')>,\n",
       " <IBMQBackend('ibmq_mumbai') from IBMQ(hub='ibm-q-skku', group='yonsei-uni', project='yu-employee')>,\n",
       " <IBMQBackend('ibmq_lima') from IBMQ(hub='ibm-q-skku', group='yonsei-uni', project='yu-employee')>,\n",
       " <IBMQBackend('ibmq_belem') from IBMQ(hub='ibm-q-skku', group='yonsei-uni', project='yu-employee')>,\n",
       " <IBMQBackend('ibmq_quito') from IBMQ(hub='ibm-q-skku', group='yonsei-uni', project='yu-employee')>,\n",
       " <IBMQBackend('ibmq_guadalupe') from IBMQ(hub='ibm-q-skku', group='yonsei-uni', project='yu-employee')>,\n",
       " <IBMQSimulator('simulator_statevector') from IBMQ(hub='ibm-q-skku', group='yonsei-uni', project='yu-employee')>,\n",
       " <IBMQSimulator('simulator_mps') from IBMQ(hub='ibm-q-skku', group='yonsei-uni', project='yu-employee')>,\n",
       " <IBMQSimulator('simulator_extended_stabilizer') from IBMQ(hub='ibm-q-skku', group='yonsei-uni', project='yu-employee')>,\n",
       " <IBMQSimulator('simulator_stabilizer') from IBMQ(hub='ibm-q-skku', group='yonsei-uni', project='yu-employee')>,\n",
       " <IBMQBackend('ibmq_jakarta') from IBMQ(hub='ibm-q-skku', group='yonsei-uni', project='yu-employee')>,\n",
       " <IBMQBackend('ibmq_manila') from IBMQ(hub='ibm-q-skku', group='yonsei-uni', project='yu-employee')>,\n",
       " <IBMQBackend('ibm_hanoi') from IBMQ(hub='ibm-q-skku', group='yonsei-uni', project='yu-employee')>,\n",
       " <IBMQBackend('ibm_lagos') from IBMQ(hub='ibm-q-skku', group='yonsei-uni', project='yu-employee')>,\n",
       " <IBMQBackend('ibm_nairobi') from IBMQ(hub='ibm-q-skku', group='yonsei-uni', project='yu-employee')>,\n",
       " <IBMQBackend('ibm_cairo') from IBMQ(hub='ibm-q-skku', group='yonsei-uni', project='yu-employee')>,\n",
       " <IBMQBackend('ibm_auckland') from IBMQ(hub='ibm-q-skku', group='yonsei-uni', project='yu-employee')>,\n",
       " <IBMQBackend('ibm_perth') from IBMQ(hub='ibm-q-skku', group='yonsei-uni', project='yu-employee')>,\n",
       " <IBMQBackend('ibm_washington') from IBMQ(hub='ibm-q-skku', group='yonsei-uni', project='yu-employee')>,\n",
       " <IBMQBackend('ibm_oslo') from IBMQ(hub='ibm-q-skku', group='yonsei-uni', project='yu-employee')>,\n",
       " <IBMQBackend('ibm_geneva') from IBMQ(hub='ibm-q-skku', group='yonsei-uni', project='yu-employee')>]"
      ]
     },
     "execution_count": 8,
     "metadata": {},
     "output_type": "execute_result"
    }
   ],
   "source": [
    "# # Get the list of backends available\n",
    "provider.backends()"
   ]
  },
  {
   "cell_type": "code",
   "execution_count": 9,
   "id": "442f9bfc",
   "metadata": {
    "ExecuteTime": {
     "end_time": "2022-08-09T06:18:50.327685Z",
     "start_time": "2022-08-09T06:18:50.314105Z"
    }
   },
   "outputs": [],
   "source": [
    "# Retrieve IBM Quantum device information\n",
    "#backend_overview()"
   ]
  },
  {
   "cell_type": "markdown",
   "id": "7bf4c05f",
   "metadata": {},
   "source": [
    "## 2.1 Swap test\n",
    " - The swap test is a procedure in quantum computation that is used to check how much two quantum states differ.\n",
    " - The swap test takes two input states $\\vert\\phi\\rangle$ and $\\vert\\psi\\rangle$ and outputs a probability with $Pr(\\vert0\\rangle)=\\frac{1}{2}+\\frac{1}{2}\\big\\vert\\langle\\psi\\vert\\phi\\rangle\\big\\vert^2$. This allows us to estimate the squared inner product between the two states, $\\big\\vert\\langle\\psi\\vert\\phi\\rangle\\big\\vert^2$.\n",
    " - The squared inner product of the two states roughly measures \"overlap\" between the two states, and can be used in linear-algebraic applications, including clustering quantum states.\n",
    " - When two qubits $\\phi$ and $\\psi$ are orthogonal, then $\\big\\vert\\langle\\psi\\vert\\phi\\rangle\\big\\vert^2=0$.  \n",
    " - Link: [Wikipedia - Swap test](https://en.wikipedia.org/wiki/Swap_test)"
   ]
  },
  {
   "attachments": {
    "swap_test_circuit.png": {
     "image/png": "[encoded data removed]"
    }
   },
   "cell_type": "markdown",
   "id": "b3b6d187",
   "metadata": {},
   "source": [
    "### 2.1.1 The procedure of the Swap Test\n",
    "\n",
    "![swap_test_circuit.png](attachment:swap_test_circuit.png)\n",
    "\n",
    "- **Step 1**: We initialize the quantum circuit with the qubit state of $|0, \\phi, \\psi\\rangle$, where $|0\\rangle$ is the measuring qubit, and both $|\\phi\\rangle$ and $|\\psi\\rangle$ are two $m$-qubit states.\n",
    "\n",
    "- **Step 2**: We apply the H-gate on the measuring qubit, followed by controlled-SWAP gate (CSWAP-gate) with controlling $|0\\rangle$ and targeting two qubits $|\\phi\\rangle$ and $|\\psi\\rangle$, and followed by the H-gate on the measuring qubit.\n",
    "\n",
    "- **Step 3**: Lastly, we measure the measuring qubit to get $Pr(|0\\rangle)$ or $Pr(|1\\rangle)$ to estimate $\\big\\vert\\langle\\psi\\vert\\phi\\rangle\\big\\vert^2$.    \n",
    "\n",
    "| Observable           | Measurement value                                                        |\n",
    "|:--------------------:|:------------------------------------------------------------------------:|\n",
    "| $Pr(\\vert0\\rangle)$  | $\\frac{1}{2}+\\frac{1}{2}\\big\\vert\\langle\\psi\\vert\\phi\\rangle\\big\\vert^2$ |\n",
    "| $Pr(\\vert1\\rangle)$  | $\\frac{1}{2}-\\frac{1}{2}\\big\\vert\\langle\\psi\\vert\\phi\\rangle\\big\\vert^2$ |\n",
    "| $\\langle Z \\rangle$  | $\\big\\vert\\langle\\psi\\vert\\phi\\rangle\\big\\vert^2$                        |"
   ]
  },
  {
   "cell_type": "markdown",
   "id": "b9adb64d",
   "metadata": {},
   "source": [
    "### 2.1.2 The quantum circuit of the Swap test\n",
    "- Let's creat a quantum circuit of the Superdense Coding Protocol."
   ]
  },
  {
   "cell_type": "markdown",
   "id": "5d6e1238",
   "metadata": {},
   "source": [
    "- First, perform a Swap test between $|0\\rangle$ and $|0\\rangle$."
   ]
  },
  {
   "cell_type": "code",
   "execution_count": 10,
   "id": "0fcbf3cd",
   "metadata": {
    "ExecuteTime": {
     "end_time": "2022-08-09T06:18:50.559331Z",
     "start_time": "2022-08-09T06:18:50.329673Z"
    }
   },
   "outputs": [
    {
     "data": {
      "image/png": "[encoded data removed]",
      "text/plain": [
       "<Figure size 393.51x264.88 with 1 Axes>"
      ]
     },
     "execution_count": 10,
     "metadata": {},
     "output_type": "execute_result"
    }
   ],
   "source": [
    "## Create a Swap test quantum circuit shown above.\n",
    "\n",
    "# Create a quantum register\n",
    "num_mqubit = 1\n",
    "q = QuantumRegister(size = 1, name = 'q')\n",
    "phi = QuantumRegister(size = num_mqubit, name = 'phi')\n",
    "psi = QuantumRegister(size = num_mqubit, name = 'psi')\n",
    "\n",
    "# Create a classical register\n",
    "c = ClassicalRegister(1,'c')\n",
    "\n",
    "# Create the quantum circuit of the swap test\n",
    "qc_swap1 = QuantumCircuit(q, phi, psi, c)\n",
    "########## FILL YOUR CODE IN HERE ##########\n",
    "qc_swap1.h(q)\n",
    "qc_swap1.cswap(control_qubit = q, target_qubit1 = phi, target_qubit2 = psi)\n",
    "qc_swap1.h(q)\n",
    "qc_swap1.barrier()\n",
    "qc_swap1.measure(qubit = q, cbit = c)\n",
    "########## ---------------------- ##########\n",
    "\n",
    "qc_swap1.draw(output = 'mpl')"
   ]
  },
  {
   "cell_type": "code",
   "execution_count": 12,
   "id": "f5efbc7b",
   "metadata": {
    "ExecuteTime": {
     "end_time": "2022-08-09T06:18:50.808160Z",
     "start_time": "2022-08-09T06:18:50.560330Z"
    }
   },
   "outputs": [
    {
     "name": "stdout",
     "output_type": "stream",
     "text": [
      "Counts:  {'0': 4096}\n",
      "Estimated the Squared inner product:  1.0\n",
      "Estimated <Z> expectation:  1.0\n"
     ]
    },
    {
     "data": {
      "image/png": "[encoded data removed]",
      "text/plain": [
       "<Figure size 504x360 with 1 Axes>"
      ]
     },
     "execution_count": 12,
     "metadata": {},
     "output_type": "execute_result"
    }
   ],
   "source": [
    "## Let's see the result of the swap test.\n",
    "\n",
    "# Use Aer's qasm_simulators\n",
    "backend_q = Aer.get_backend('qasm_simulator')\n",
    "\n",
    "# Execute the quantum circuit on the qasm simulator\n",
    "num_shots = 4096\n",
    "job_swap1 = execute(qc_swap1, backend_q, shots=num_shots)\n",
    "\n",
    "# Get the counts number to estimate the squared inner product.\n",
    "counts_swap1 = job_swap1.result().get_counts()\n",
    "\n",
    "# print the result\n",
    "print(\"Counts: \", counts_swap1)\n",
    "print(\"Estimated the Squared inner product: \", str(2*(counts_swap1['0']/num_shots) - 1))\n",
    "print(\"Estimated <Z> expectation: \", (counts_swap1['0']/num_shots))\n",
    "plot_histogram(counts_swap1)"
   ]
  },
  {
   "cell_type": "markdown",
   "id": "904851b7",
   "metadata": {},
   "source": [
    "- Second, perform a Swap test between $|0\\rangle$ and $|1\\rangle$."
   ]
  },
  {
   "cell_type": "code",
   "execution_count": 13,
   "id": "f0cf07b6",
   "metadata": {
    "ExecuteTime": {
     "end_time": "2022-08-09T06:18:50.885862Z",
     "start_time": "2022-08-09T06:18:50.809172Z"
    }
   },
   "outputs": [
    {
     "data": {
      "image/png": "[encoded data removed]",
      "text/plain": [
       "<Figure size 513.91x264.88 with 1 Axes>"
      ]
     },
     "execution_count": 13,
     "metadata": {},
     "output_type": "execute_result"
    }
   ],
   "source": [
    "## Create a Swap test quantum circuit.\n",
    "\n",
    "# Create a quantum register\n",
    "num_mqubit = 1\n",
    "q = QuantumRegister(size = 1, name = 'q')\n",
    "phi = QuantumRegister(size = num_mqubit, name = 'phi')\n",
    "psi = QuantumRegister(size = num_mqubit, name = 'psi')\n",
    "\n",
    "# Create a classical register\n",
    "c = ClassicalRegister(1,'c')\n",
    "\n",
    "# Create the quantum circuit of the swap test\n",
    "########## FILL YOUR CODE IN HERE ##########\n",
    "qc_swap2 = QuantumCircuit(q, phi, psi, c)\n",
    "qc_swap2.x(2)\n",
    "qc_swap2.barrier()\n",
    "qc_swap2.h(q)\n",
    "qc_swap2.cswap(control_qubit = q, target_qubit1 = phi, target_qubit2 = psi)\n",
    "qc_swap2.h(q)\n",
    "qc_swap2.barrier()\n",
    "qc_swap2.measure(qubit = q, cbit = c)\n",
    "########## ---------------------- ##########\n",
    "\n",
    "qc_swap2.draw(output = 'mpl')"
   ]
  },
  {
   "cell_type": "code",
   "execution_count": 14,
   "id": "f8c51fe3",
   "metadata": {
    "ExecuteTime": {
     "end_time": "2022-08-09T06:18:50.962076Z",
     "start_time": "2022-08-09T06:18:50.888917Z"
    }
   },
   "outputs": [
    {
     "name": "stdout",
     "output_type": "stream",
     "text": [
      "Counts:  {'0': 2101, '1': 1995}\n",
      "Estimated the squared inner product:  0.02587890625\n",
      "Estimated <Z> expectation:  0.02587890625\n"
     ]
    },
    {
     "data": {
      "image/png": "[encoded data removed]",
      "text/plain": [
       "<Figure size 504x360 with 1 Axes>"
      ]
     },
     "execution_count": 14,
     "metadata": {},
     "output_type": "execute_result"
    }
   ],
   "source": [
    "## Let's see the result of the swap test\n",
    "\n",
    "# Use Aer's qasm_simulators\n",
    "backend_q = Aer.get_backend('qasm_simulator')\n",
    "\n",
    "# Execute the quantum circuit on the qasm simulator\n",
    "num_shots = 4096\n",
    "job_swap2 = execute(qc_swap2, backend_q, shots=num_shots)\n",
    "\n",
    "# Get the counts number to estimate the squared inner product.\n",
    "counts_swap2 = job_swap2.result().get_counts()\n",
    "\n",
    "# print the result\n",
    "print(\"Counts: \", counts_swap2)\n",
    "print(\"Estimated the squared inner product: \", str(2*(counts_swap2['0']/num_shots) - 1))\n",
    "print(\"Estimated <Z> expectation: \", (counts_swap2['0']/num_shots)-(counts_swap2['1']/num_shots))\n",
    "plot_histogram(counts_swap2)"
   ]
  },
  {
   "cell_type": "markdown",
   "id": "b9d85dbe",
   "metadata": {},
   "source": [
    "### Exercise 2.1: Swap test\n",
    "\n",
    "- Perform the Swap test that compares two given states. First, build a quantum circuit, and execute the circuit using the QASM simulation.\n",
    "\n",
    "    1) $|\\phi\\rangle = \\frac{1}{\\sqrt{2}}{\\bigl(|0\\rangle+|1\\rangle\\bigl)}$ and $|\\psi\\rangle = \\alpha|0\\rangle+\\beta|1\\rangle$, such that $|\\alpha|^2 = 0.75$, and $|\\beta|^2 = 0.25$"
   ]
  },
  {
   "cell_type": "code",
   "execution_count": 15,
   "id": "1fc7c3b2",
   "metadata": {
    "ExecuteTime": {
     "end_time": "2022-08-09T06:18:51.135684Z",
     "start_time": "2022-08-09T06:18:50.963657Z"
    },
    "scrolled": true
   },
   "outputs": [
    {
     "data": {
      "image/png": "[encoded data removed]",
      "text/plain": [
       "<Figure size 513.91x264.88 with 1 Axes>"
      ]
     },
     "execution_count": 15,
     "metadata": {},
     "output_type": "execute_result"
    }
   ],
   "source": [
    "# Exercise 2.1) circuit\n",
    "def qc_swap_ex2_1():\n",
    "    # Create a quantum register with 3 qubits\n",
    "    num_m_qubit = 1\n",
    "    q = QuantumRegister(size = 1, name = 'q')\n",
    "    phi = QuantumRegister(size = num_m_qubit, name = 'phi')\n",
    "    psi = QuantumRegister(size = num_m_qubit, name = 'psi')\n",
    "    # Create a classical register with 3 bits\n",
    "    c = ClassicalRegister(1, 'c')\n",
    "    \n",
    "    # Create the quantum circuit with the given qubits/cbits\n",
    "    qc = QuantumCircuit(q, phi, psi, c)\n",
    "    ########## FILL YOUR CODE IN HERE ##########\n",
    "    \n",
    "    ## Initialization\n",
    "    qc.h(phi[0]) # phi\n",
    "    qc.ry(theta = pi/3, qubit = psi[0]) # psi\n",
    "    qc.barrier()\n",
    "    \n",
    "    ## Gate operation\n",
    "    qc.h(0)\n",
    "    qc.cswap(control_qubit = q, target_qubit1 = phi, target_qubit2 = psi)\n",
    "    qc.h(0)\n",
    "    qc.barrier()\n",
    "    \n",
    "    ## Measurement\n",
    "    qc.measure(q, c)  \n",
    "    \n",
    "    ########## ---------------------- ##########\n",
    "    return(qc)\n",
    "\n",
    "# Draw the quantum circuit in a different style\n",
    "qc_swap_ex2_1().draw(output='mpl')"
   ]
  },
  {
   "cell_type": "code",
   "execution_count": 16,
   "id": "ec3e016b",
   "metadata": {
    "ExecuteTime": {
     "end_time": "2022-08-09T06:18:51.198029Z",
     "start_time": "2022-08-09T06:18:51.137007Z"
    }
   },
   "outputs": [
    {
     "name": "stdout",
     "output_type": "stream",
     "text": [
      "Counts:  {'1': 144, '0': 3952}\n",
      "Estimated the squared inner product:  0.9296875\n",
      "Estimated <Z> expectation:  0.9296875\n"
     ]
    },
    {
     "data": {
      "image/png": "[encoded data removed]",
      "text/plain": [
       "<Figure size 504x360 with 1 Axes>"
      ]
     },
     "execution_count": 16,
     "metadata": {},
     "output_type": "execute_result"
    }
   ],
   "source": [
    "# Use Aer's qasm_simulators\n",
    "backend_q = Aer.get_backend('qasm_simulator')\n",
    "\n",
    "# Execute the quantum circuit on the qasm simulator\n",
    "num_shots = 4096\n",
    "job_swap_ex2_1 = execute(qc_swap_ex2_1(), backend_q, shots=num_shots)\n",
    "\n",
    "# Get the counts number to estimate the squared inner product.\n",
    "counts_swap_ex2_1 = job_swap_ex2_1.result().get_counts()\n",
    "\n",
    "# print the result\n",
    "print(\"Counts: \", counts_swap_ex2_1)\n",
    "print(\"Estimated the squared inner product: \", str(2*(counts_swap_ex2_1['0']/num_shots) - 1))\n",
    "if '1' not in list(counts_swap_ex2_1.keys()):\n",
    "    print(\"Estimated <Z> expectation: \", counts_swap_ex2_1['0']/num_shots)\n",
    "elif '0' not in list(counts_swap_ex2_1.keys()):\n",
    "    print(\"Estimated <Z> expectation: \", counts_swap_ex2_1['1']/num_shots)\n",
    "else: print(\"Estimated <Z> expectation: \", (counts_swap_ex2_1['0']/num_shots - counts_swap_ex2_1['1']/num_shots))\n",
    "plot_histogram(counts_swap_ex2_1)"
   ]
  },
  {
   "cell_type": "markdown",
   "id": "5ef82835",
   "metadata": {},
   "source": [
    "### Exercise 2.2: Swap test\n",
    "\n",
    "- Perform the Swap test that compares two given states. First, build a quantum circuit, and execute the circuit using the QASM simulation.\n",
    "\n",
    "    2) Two Bell states: $|\\phi\\rangle = \\frac{1}{\\sqrt{2}}{\\bigl(|00\\rangle+|11\\rangle\\bigl)}$ and $|\\psi\\rangle = \\frac{1}{\\sqrt{2}}{\\bigl(|01\\rangle+|10\\rangle\\bigl)}$"
   ]
  },
  {
   "cell_type": "code",
   "execution_count": 17,
   "id": "6121ba8e",
   "metadata": {
    "ExecuteTime": {
     "end_time": "2022-08-09T06:18:51.322154Z",
     "start_time": "2022-08-09T06:18:51.199014Z"
    }
   },
   "outputs": [
    {
     "data": {
      "image/png": "[encoded data removed]",
      "text/plain": [
       "<Figure size 647.436x385.28 with 1 Axes>"
      ]
     },
     "execution_count": 17,
     "metadata": {},
     "output_type": "execute_result"
    }
   ],
   "source": [
    "# Exercise 2.2)\n",
    "def qc_swap_ex2_2():\n",
    "    # Create a quantum register with 3 qubits\n",
    "    num_m_qubit = 2\n",
    "    q = QuantumRegister(size = 1, name = 'q')\n",
    "    phi = QuantumRegister(size = num_m_qubit, name = 'phi')\n",
    "    psi = QuantumRegister(size = num_m_qubit, name = 'psi')\n",
    "    # Create a classical register with 3 bits\n",
    "    c = ClassicalRegister(1, 'c')\n",
    "    \n",
    "    # Create the quantum circuit with the given qubits/cbits\n",
    "    qc = QuantumCircuit(q, phi, psi, c)\n",
    "    ########## FILL YOUR CODE IN HERE ##########\n",
    "    \n",
    "    ## Initialization\n",
    "    qc.h(phi[0])\n",
    "    qc.cx(control_qubit = phi[0], target_qubit = phi[1])\n",
    "    qc.h(psi[0])\n",
    "    qc.x(psi[1])\n",
    "    qc.cx(control_qubit = psi[0], target_qubit = psi[1])\n",
    "    qc.barrier()\n",
    "    \n",
    "    ## Gate operation\n",
    "    qc.h(0)\n",
    "    for i in range(num_m_qubit):\n",
    "        qc.cswap(control_qubit = q, target_qubit1 = phi[i], target_qubit2 = psi[i])\n",
    "    qc.h(0)\n",
    "    qc.barrier()\n",
    "    \n",
    "    ## Measurement\n",
    "    qc.measure(q, c)  \n",
    "    \n",
    "    ########## ---------------------- ##########\n",
    "    return(qc)\n",
    "\n",
    "# Draw the quantum circuit in a different style\n",
    "qc_swap_ex2_2().draw(output='mpl')"
   ]
  },
  {
   "cell_type": "code",
   "execution_count": 18,
   "id": "f531a3ff",
   "metadata": {
    "ExecuteTime": {
     "end_time": "2022-08-09T06:18:51.384882Z",
     "start_time": "2022-08-09T06:18:51.323137Z"
    },
    "scrolled": true
   },
   "outputs": [
    {
     "name": "stdout",
     "output_type": "stream",
     "text": [
      "Counts:  {'1': 2074, '0': 2022}\n",
      "Estimated the squared inner product:  -0.0126953125\n",
      "Estimated <Z> expectation:  -0.0126953125\n"
     ]
    },
    {
     "data": {
      "image/png": "[encoded data removed]",
      "text/plain": [
       "<Figure size 504x360 with 1 Axes>"
      ]
     },
     "execution_count": 18,
     "metadata": {},
     "output_type": "execute_result"
    }
   ],
   "source": [
    "# Use Aer's qasm_simulators\n",
    "backend_q = Aer.get_backend('qasm_simulator')\n",
    "\n",
    "# Execute the quantum circuit on the qasm simulator\n",
    "num_shots = 4096\n",
    "job_swap_ex2_2 = execute(qc_swap_ex2_2(), backend_q, shots=num_shots)\n",
    "\n",
    "# Get the counts number to estimate the squared inner product.\n",
    "counts_swap_ex2_2 = job_swap_ex2_2.result().get_counts()\n",
    "\n",
    "# print the result\n",
    "print(\"Counts: \", counts_swap_ex2_2)\n",
    "print(\"Estimated the squared inner product: \", str(2*(counts_swap_ex2_2['0']/num_shots) - 1))\n",
    "if '1' not in list(counts_swap_ex2_2.keys()):\n",
    "    print(\"Estimated <Z> expectation: \", counts_swap_ex2_2['0']/num_shots)\n",
    "elif '0' not in list(counts_swap_ex2_2.keys()):\n",
    "    print(\"Estimated <Z> expectation: \", counts_swap_ex2_2['1']/num_shots)\n",
    "else: print(\"Estimated <Z> expectation: \", (counts_swap_ex2_2['0']/num_shots - counts_swap_ex2_2['1']/num_shots))\n",
    "plot_histogram(counts_swap_ex2_2)"
   ]
  },
  {
   "cell_type": "markdown",
   "id": "432438fd",
   "metadata": {},
   "source": [
    "### Exercise 2.3: Swap test\n",
    "\n",
    "- Perform the Swap test that compares two given states. First, build a quantum circuit, and execute the circuit using the QASM simulation.\n",
    "\n",
    "    3) Two GHZ states:\n",
    "    - $|\\phi\\rangle = \\alpha|000\\rangle+\\beta|111\\rangle$, with $|\\alpha|^2 = 0.75$, and $|\\beta|^2 = 0.25$\n",
    "    - $|\\psi\\rangle = \\alpha|000\\rangle+\\beta|111\\rangle$, with $|\\alpha|^2 = 0.25$, and $|\\beta|^2 = 0.75$"
   ]
  },
  {
   "cell_type": "code",
   "execution_count": 19,
   "id": "7c7344c6",
   "metadata": {
    "ExecuteTime": {
     "end_time": "2022-08-09T06:18:51.556589Z",
     "start_time": "2022-08-09T06:18:51.385882Z"
    }
   },
   "outputs": [
    {
     "data": {
      "image/png": "[encoded data removed]",
      "text/plain": [
       "<Figure size 767.981x505.68 with 1 Axes>"
      ]
     },
     "execution_count": 19,
     "metadata": {},
     "output_type": "execute_result"
    }
   ],
   "source": [
    "# Exercise 2.3)\n",
    "def qc_swap_ex2_3():\n",
    "    # Create a quantum register with 3 qubits\n",
    "    num_m_qubit = 3\n",
    "    q = QuantumRegister(size = 1, name = 'q')\n",
    "    phi = QuantumRegister(size = num_m_qubit, name = 'phi')\n",
    "    psi = QuantumRegister(size = num_m_qubit, name = 'psi')\n",
    "    # Create a classical register with 3 bits\n",
    "    c = ClassicalRegister(1, 'c')\n",
    "    \n",
    "    # Create the quantum circuit with the given qubits/cbits\n",
    "    qc = QuantumCircuit(q, phi, psi, c)\n",
    "    ########## FILL YOUR CODE IN HERE ##########\n",
    "    \n",
    "    ## Initialization\n",
    "    qc.ry(theta = pi/3, qubit = phi[0])\n",
    "    qc.cx(control_qubit = phi[0], target_qubit = phi[1])\n",
    "    qc.cx(control_qubit = phi[1], target_qubit = phi[2])\n",
    "    qc.ry(theta = 2*pi/3, qubit = psi[0])\n",
    "    qc.cx(control_qubit = psi[0], target_qubit = psi[1])\n",
    "    qc.cx(control_qubit = psi[1], target_qubit = psi[2])\n",
    "    qc.barrier()\n",
    "    \n",
    "    ## Gate operation\n",
    "    qc.h(0)\n",
    "    for i in range(num_m_qubit):\n",
    "        qc.cswap(control_qubit = q, target_qubit1 = phi[i], target_qubit2 = psi[i])\n",
    "    qc.h(0)\n",
    "    qc.barrier()\n",
    "    \n",
    "    ## Measurement\n",
    "    qc.measure(q, c)  \n",
    "    \n",
    "    ########## ---------------------- ##########\n",
    "    return(qc)\n",
    "\n",
    "# Draw the quantum circuit in a different style\n",
    "qc_swap_ex2_3().draw(output='mpl')"
   ]
  },
  {
   "cell_type": "code",
   "execution_count": 20,
   "id": "0ceff7b4",
   "metadata": {
    "ExecuteTime": {
     "end_time": "2022-08-09T06:18:51.620693Z",
     "start_time": "2022-08-09T06:18:51.557572Z"
    }
   },
   "outputs": [
    {
     "name": "stdout",
     "output_type": "stream",
     "text": [
      "Counts:  {'0': 3558, '1': 538}\n",
      "Estimated the squared inner product:  0.7373046875\n",
      "Estimated <Z> expectation:  0.7373046875\n"
     ]
    },
    {
     "data": {
      "image/png": "[encoded data removed]",
      "text/plain": [
       "<Figure size 504x360 with 1 Axes>"
      ]
     },
     "execution_count": 20,
     "metadata": {},
     "output_type": "execute_result"
    }
   ],
   "source": [
    "# Use Aer's qasm_simulators\n",
    "backend_q = Aer.get_backend('qasm_simulator')\n",
    "\n",
    "# Execute the quantum circuit on the qasm simulator\n",
    "num_shots = 4096\n",
    "job_swap_ex2_3 = execute(qc_swap_ex2_3(), backend_q, shots=num_shots)\n",
    "\n",
    "# Get the counts number to estimate the squared inner product.\n",
    "counts_swap_ex2_3 = job_swap_ex2_3.result().get_counts()\n",
    "\n",
    "# print the result\n",
    "print(\"Counts: \", counts_swap_ex2_3)\n",
    "print(\"Estimated the squared inner product: \", str(2*(counts_swap_ex2_3['0']/num_shots) - 1))\n",
    "if '1' not in list(counts_swap_ex2_3.keys()):\n",
    "    print(\"Estimated <Z> expectation: \", counts_swap_ex2_3['0']/num_shots)\n",
    "elif '0' not in list(counts_swap_ex2_3.keys()):\n",
    "    print(\"Estimated <Z> expectation: \", counts_swap_ex2_3['1']/num_shots)\n",
    "else: print(\"Estimated <Z> expectation: \", (counts_swap_ex2_3['0']/num_shots - counts_swap_ex2_3['1']/num_shots))\n",
    "plot_histogram(counts_swap_ex2_3)"
   ]
  },
  {
   "cell_type": "markdown",
   "id": "56f87438",
   "metadata": {},
   "source": [
    "## 2.2 Hadamard test\n",
    " - Let $U$ be a unitary gate acting on the space of m-qubit state $|\\psi\\rangle$.\n",
    "     - $U^{\\dagger}U=UU^{\\dagger}=I$, and $\\langle\\psi|\\psi\\rangle=1$\n",
    " - The Hadamard test is a method used in quantum computation used to create a random variable whose expected value is the expected real part $Re(\\langle\\psi\\vert U \\vert\\psi\\rangle)$.\n",
    " - That is, the Hadamard test produces a random variable whose image is in $\\bigl\\{+1, -1\\bigl\\}$ and whose expected value is exactly $Re(\\langle\\psi\\vert U \\vert\\psi\\rangle)$. \n",
    " - With modification of the quantum circuit of the Hadamard test, you can also produce a random variable whose expected value is $Im(\\langle\\psi\\vert U \\vert\\psi\\rangle)$.\n",
    " - Link: [Wikipedia - Hadamard test](https://en.wikipedia.org/wiki/Hadamard_test_(quantum_computation))"
   ]
  },
  {
   "cell_type": "markdown",
   "id": "e7d7abc6",
   "metadata": {},
   "source": [
    "### 2.2.1 The procedure of the Hadamard test"
   ]
  },
  {
   "attachments": {
    "hadamard_test_circuit.png": {
     "image/png": "[encoded data removed]"
    }
   },
   "cell_type": "markdown",
   "id": "31cd3027",
   "metadata": {},
   "source": [
    "![hadamard_test_circuit.png](attachment:hadamard_test_circuit.png)\n",
    "\n",
    "- **Step 1**: We initialize the quantum circuit with the qubit state of $|0\\rangle|\\psi\\rangle$, where $|0\\rangle$ is the measuring qubit, and $|\\psi\\rangle$ is a $m$-qubit state.\n",
    "\n",
    "- **Step 2**: We apply the H-gate on the measuring qubit, followed by controlled-Unitary gate (C-U gate) with controlling $|0\\rangle$ and the target qubit $|\\psi\\rangle$, and followed by the H-gate on the measuring qubit.\n",
    "\n",
    "- **Step 3**: Lastly, we measure $\\langle Z \\rangle$ to get $Re(\\langle\\psi\\vert U \\vert\\psi\\rangle)$.\n",
    "    - $\\langle Z \\rangle = (1)\\times Pr(|0\\rangle)+(-1)\\times Pr(|1\\rangle)$\n",
    "\n",
    "- By the circuit diagram, we have our state vector from:\n",
    "    - $|\\Phi_0\\rangle = |0\\rangle \\otimes |\\psi\\rangle$ $\\mapsto$ $\\cdots$ $\\mapsto$ $|\\Phi_f\\rangle = \\frac{1}{2}{\\bigl( |0\\rangle(I+U)|\\psi\\rangle + |1\\rangle(I-U)|\\psi\\rangle \\bigl)}$\n",
    "    \n",
    "| Observable           | Measurement value                                                   |\n",
    "|:--------------------:|:-------------------------------------------------------------------:|\n",
    "| $Pr(\\vert0\\rangle)$  | $\\frac{1}{2}{\\big[1+Re(\\langle\\psi\\vert U \\vert\\psi\\rangle)\\big]}$  |\n",
    "| $Pr(\\vert1\\rangle)$  | $\\frac{1}{2}{\\big[1-Re(\\langle\\psi\\vert U \\vert\\psi\\rangle)\\big]}$  |\n",
    "| $\\langle Z \\rangle$  | $Re(\\langle\\psi\\vert U \\vert\\psi\\rangle)$                           |"
   ]
  },
  {
   "cell_type": "markdown",
   "id": "af49a093",
   "metadata": {},
   "source": [
    "### 2.2.2 The quantum circuit of the Hadamard Test\n",
    "- Let's creat a quantum circuit of the Hadamard test."
   ]
  },
  {
   "cell_type": "markdown",
   "id": "98773d39",
   "metadata": {},
   "source": [
    "- First, perform a Hadamard test with $|\\psi\\rangle = |0\\rangle$, and $U=X$"
   ]
  },
  {
   "cell_type": "code",
   "execution_count": 21,
   "id": "d3d3aff7",
   "metadata": {
    "ExecuteTime": {
     "end_time": "2022-08-09T06:18:51.683773Z",
     "start_time": "2022-08-09T06:18:51.621708Z"
    }
   },
   "outputs": [
    {
     "data": {
      "image/png": "[encoded data removed]",
      "text/plain": [
       "<Figure size 391.197x204.68 with 1 Axes>"
      ]
     },
     "execution_count": 21,
     "metadata": {},
     "output_type": "execute_result"
    }
   ],
   "source": [
    "## Create a Hadamard test quantum circuit shown above.\n",
    "\n",
    "# Create a quantum register\n",
    "num_mqubit = 1\n",
    "q = QuantumRegister(size = 1, name = 'q')\n",
    "psi = QuantumRegister(size = num_mqubit, name = 'psi')\n",
    "\n",
    "# Create a classical register\n",
    "c = ClassicalRegister(1,'c')\n",
    "\n",
    "# Create the quantum circuit of the swap test\n",
    "qc_hada1 = QuantumCircuit(q, psi, c)\n",
    "########## FILL YOUR CODE IN HERE ##########\n",
    "qc_hada1.h(q)\n",
    "qc_hada1.cx(q, psi)\n",
    "qc_hada1.h(q)\n",
    "qc_hada1.barrier()\n",
    "qc_hada1.measure(qubit = q, cbit = c)\n",
    "########## ---------------------- ##########\n",
    "\n",
    "qc_hada1.draw(output = 'mpl')"
   ]
  },
  {
   "cell_type": "code",
   "execution_count": 22,
   "id": "2bbbb327",
   "metadata": {
    "ExecuteTime": {
     "end_time": "2022-08-09T06:18:51.746179Z",
     "start_time": "2022-08-09T06:18:51.684784Z"
    }
   },
   "outputs": [
    {
     "name": "stdout",
     "output_type": "stream",
     "text": [
      "Counts:  {'0': 1983, '1': 2113}\n",
      "Estimated <Z> expectation:  -0.03173828125\n"
     ]
    },
    {
     "data": {
      "image/png": "[encoded data removed]",
      "text/plain": [
       "<Figure size 504x360 with 1 Axes>"
      ]
     },
     "execution_count": 22,
     "metadata": {},
     "output_type": "execute_result"
    }
   ],
   "source": [
    "## Let's see the result of the swap test.\n",
    "\n",
    "# Use Aer's qasm_simulators\n",
    "backend_q = Aer.get_backend('qasm_simulator')\n",
    "\n",
    "# Execute the quantum circuit on the qasm simulator\n",
    "num_shots = 4096\n",
    "job_hada1 = execute(qc_hada1, backend_q, shots=num_shots)\n",
    "\n",
    "# Get the counts number to estimate the squared inner product.\n",
    "counts_hada1 = job_hada1.result().get_counts()\n",
    "\n",
    "# print the result\n",
    "print(\"Counts: \", counts_hada1)\n",
    "if '1' not in list(counts_hada1.keys()):\n",
    "    print(\"Estimated <Z> expectation: \", counts_hada1['0']/num_shots)\n",
    "elif '0' not in list(counts_hada1.keys()):\n",
    "    print(\"Estimated <Z> expectation: \", counts_hada1['1']/num_shots)\n",
    "else: print(\"Estimated <Z> expectation: \", (counts_hada1['0']/num_shots - counts_hada1['1']/num_shots))\n",
    "plot_histogram(counts_hada1)"
   ]
  },
  {
   "cell_type": "markdown",
   "id": "49df4a47",
   "metadata": {},
   "source": [
    "- Second, perform a Hadamard test with $|\\psi\\rangle = |+\\rangle=\\frac{1}{\\sqrt{2}}\\big(|0\\rangle+|1\\rangle\\big)$, and $U=X$"
   ]
  },
  {
   "cell_type": "code",
   "execution_count": 23,
   "id": "5c017d1e",
   "metadata": {
    "ExecuteTime": {
     "end_time": "2022-08-09T06:18:51.808969Z",
     "start_time": "2022-08-09T06:18:51.747176Z"
    }
   },
   "outputs": [
    {
     "data": {
      "image/png": "[encoded data removed]",
      "text/plain": [
       "<Figure size 511.597x204.68 with 1 Axes>"
      ]
     },
     "execution_count": 23,
     "metadata": {},
     "output_type": "execute_result"
    }
   ],
   "source": [
    "## Create a Hadamard test quantum circuit shown above.\n",
    "\n",
    "# Create a quantum register\n",
    "num_mqubit = 1\n",
    "q = QuantumRegister(size = 1, name = 'q')\n",
    "psi = QuantumRegister(size = num_mqubit, name = 'psi')\n",
    "\n",
    "# Create a classical register\n",
    "c = ClassicalRegister(1,'c')\n",
    "\n",
    "# Create the quantum circuit of the swap test\n",
    "qc_hada2 = QuantumCircuit(q, psi, c)\n",
    "########## FILL YOUR CODE IN HERE ##########\n",
    "qc_hada2.h(psi)\n",
    "qc_hada2.barrier()\n",
    "qc_hada2.h(q)\n",
    "qc_hada2.cx(control_qubit = q, target_qubit = psi)\n",
    "qc_hada2.h(q)\n",
    "qc_hada2.barrier()\n",
    "qc_hada2.measure(qubit = q, cbit = c)\n",
    "########## ---------------------- ##########\n",
    "\n",
    "qc_hada2.draw(output = 'mpl')"
   ]
  },
  {
   "cell_type": "code",
   "execution_count": 24,
   "id": "4cb9937f",
   "metadata": {
    "ExecuteTime": {
     "end_time": "2022-08-09T06:18:51.871500Z",
     "start_time": "2022-08-09T06:18:51.809948Z"
    }
   },
   "outputs": [
    {
     "name": "stdout",
     "output_type": "stream",
     "text": [
      "Counts:  {'0': 4096}\n",
      "Estimated <Z> expectation:  1.0\n"
     ]
    },
    {
     "data": {
      "image/png": "[encoded data removed]",
      "text/plain": [
       "<Figure size 504x360 with 1 Axes>"
      ]
     },
     "execution_count": 24,
     "metadata": {},
     "output_type": "execute_result"
    }
   ],
   "source": [
    "## Let's see the result of the swap test.\n",
    "\n",
    "# Use Aer's qasm_simulators\n",
    "backend_q = Aer.get_backend('qasm_simulator')\n",
    "\n",
    "# Execute the quantum circuit on the qasm simulator\n",
    "num_shots = 4096\n",
    "job_hada2 = execute(qc_hada2, backend_q, shots=num_shots)\n",
    "\n",
    "# Get the counts number to estimate the squared inner product.\n",
    "counts_hada2 = job_hada2.result().get_counts()\n",
    "\n",
    "# print the result\n",
    "print(\"Counts: \", counts_hada2)\n",
    "if '1' not in list(counts_hada2.keys()):\n",
    "    print(\"Estimated <Z> expectation: \", counts_hada2['0']/num_shots)\n",
    "elif '0' not in list(counts_hada2.keys()):\n",
    "    print(\"Estimated <Z> expectation: \", counts_hada2['1']/num_shots)\n",
    "else: print(\"Estimated <Z> expectation: \", (counts_hada2['0']/num_shots - counts_hada2['1']/num_shots))\n",
    "plot_histogram(counts_hada2)"
   ]
  },
  {
   "cell_type": "markdown",
   "id": "b40ab950",
   "metadata": {},
   "source": [
    "### Exercise 2.4: Hadamard test\n",
    "\n",
    "- Perform the Hadamard test with given quantum state $\\psi\\rangle$ and the unitary gate $U$. First, build a quantum circuit, and execute the circuit using the QASM simulation.\n",
    "\n",
    "    1) Perform a Hadamard test with $|\\psi\\rangle = |1\\rangle$, and $U=R_{z}(\\pi/2)$ to get the estimated $Re\\big(\\langle1|U|1\\rangle\\big)$.\n",
    " - Hint: Use the CRZ gate using `QuantumCircuit.crz(theta, control_qubit, target_qubit)`\n",
    " - Hint: $R_{z}(\\theta)= \\begin{bmatrix} e^{-\\theta i} & 0 \\\\ 0 & e^{+\\theta i}\\end{bmatrix}$, where $e^{\\pm i\\theta}=cos(\\theta)\\pm i\\cdot sin(\\theta)$"
   ]
  },
  {
   "cell_type": "code",
   "execution_count": 25,
   "id": "7dd90af0",
   "metadata": {
    "ExecuteTime": {
     "end_time": "2022-08-09T06:18:52.028592Z",
     "start_time": "2022-08-09T06:18:51.872534Z"
    }
   },
   "outputs": [
    {
     "data": {
      "image/png": "[encoded data removed]",
      "text/plain": [
       "<Figure size 511.597x204.68 with 1 Axes>"
      ]
     },
     "execution_count": 25,
     "metadata": {},
     "output_type": "execute_result"
    }
   ],
   "source": [
    "# Exercise 2.4)\n",
    "def qc_hada_ex2_4():\n",
    "    # Create a quantum register with 3 qubits\n",
    "    num_m_qubit = 1\n",
    "    q = QuantumRegister(size = 1, name = 'q')\n",
    "    psi = QuantumRegister(size = num_m_qubit, name = 'psi')\n",
    "    # Create a classical register with 3 bits\n",
    "    c = ClassicalRegister(1, 'c')\n",
    "    \n",
    "    # Create the quantum circuit with the given qubits/cbits\n",
    "    qc = QuantumCircuit(q, psi, c)\n",
    "    ########## FILL YOUR CODE IN HERE ##########\n",
    "    \n",
    "    ## Initialization\n",
    "    qc.x(psi)\n",
    "    qc.barrier()\n",
    "    \n",
    "    ## Gate operation\n",
    "    qc.h(0)\n",
    "    qc.crz(theta = pi/2, control_qubit = q, target_qubit = psi)\n",
    "    qc.h(0)\n",
    "    qc.barrier()\n",
    "    \n",
    "    ## Measurement\n",
    "    qc.measure(q, c)  \n",
    "    \n",
    "    ########## ---------------------- ##########\n",
    "    return(qc)\n",
    "\n",
    "# Draw the quantum circuit in a different style\n",
    "qc_hada_ex2_4().draw(output='mpl')"
   ]
  },
  {
   "cell_type": "code",
   "execution_count": 29,
   "id": "d267261a",
   "metadata": {
    "ExecuteTime": {
     "end_time": "2022-08-09T06:18:52.090086Z",
     "start_time": "2022-08-09T06:18:52.029589Z"
    }
   },
   "outputs": [
    {
     "name": "stdout",
     "output_type": "stream",
     "text": [
      "Counts:  {'1': 1166, '0': 7026}\n",
      "Estimated <Z> expectation:  0.71533203125\n"
     ]
    },
    {
     "data": {
      "image/png": "[encoded data removed]",
      "text/plain": [
       "<Figure size 504x360 with 1 Axes>"
      ]
     },
     "execution_count": 29,
     "metadata": {},
     "output_type": "execute_result"
    }
   ],
   "source": [
    "# Use Aer's qasm_simulators\n",
    "backend_q = Aer.get_backend('qasm_simulator')\n",
    "\n",
    "# Execute the quantum circuit on the qasm simulator\n",
    "num_shots = 8192\n",
    "job_hada_ex2_4 = execute(qc_hada_ex2_4(), backend_q, shots=num_shots)\n",
    "\n",
    "# Get the counts number to estimate the squared inner product.\n",
    "counts_hada_ex2_4 = job_hada_ex2_4.result().get_counts()\n",
    "\n",
    "# print the result\n",
    "print(\"Counts: \", counts_hada_ex2_4)\n",
    "if '1' not in list(counts_hada_ex2_4.keys()):\n",
    "    print(\"Estimated <Z> expectation: \", counts_hada_ex2_4['0']/num_shots)\n",
    "elif '0' not in list(counts_hada_ex2_4.keys()):\n",
    "    print(\"Estimated <Z> expectation: \", counts_hada_ex2_4['1']/num_shots)\n",
    "else: print(\"Estimated <Z> expectation: \", (counts_hada_ex2_4['0']/num_shots - counts_hada_ex2_4['1']/num_shots))\n",
    "plot_histogram(counts_hada_ex2_4)"
   ]
  },
  {
   "cell_type": "markdown",
   "id": "04ec4b82",
   "metadata": {},
   "source": [
    "- In Qiskit, since $R_{z}(\\pi/2)= \\frac{1}{\\sqrt{2}}\\begin{bmatrix} 1-i & 0 \\\\ 0 & 1+i \\end{bmatrix}$, we have $\\langle1|R_{z}(\\pi/2)|1\\rangle = \\frac{1}{\\sqrt{2}}(1+i)$ $\\Rightarrow$ $Re\\big(\\langle1|R_{z}(\\pi/2)|1\\rangle\\big) = \\frac{1}{\\sqrt{2}} \\approx 0.7071$"
   ]
  },
  {
   "cell_type": "markdown",
   "id": "93703b9e",
   "metadata": {},
   "source": [
    "### Exercise 2.5: Hadamard test\n",
    "\n",
    " - Perform the Hadamard test with given quantum state $\\psi\\rangle$ and the unitary gate $U$. First, build a quantum circuit, and execute the circuit using the QASM simulation.\n",
    "\n",
    "    2) Perform a Hadamard test with $|\\psi\\rangle = |0\\rangle$, and $U=R_{z}(\\pi/2)$ to get the estimated $Im\\big(\\langle0|U|0\\rangle\\big)$.\n",
    "    - Hint: Instead of applying first H-gate to get $|+\\rangle$ state, try to get $|-i\\rangle = \\frac{1}{\\sqrt{2}}\\big(|0\\rangle-i|1\\rangle\\big)$ state using $S^{\\dagger}$ gate, where $S^{\\dagger}=R_{z}(-\\pi/2)$.\n",
    "    - Hint: Use the S-dagger gate using `QuantumCircuit.sdg(qubit)`"
   ]
  },
  {
   "cell_type": "code",
   "execution_count": 30,
   "id": "681f3abf",
   "metadata": {
    "ExecuteTime": {
     "end_time": "2022-08-09T06:18:52.167203Z",
     "start_time": "2022-08-09T06:18:52.091083Z"
    }
   },
   "outputs": [
    {
     "data": {
      "image/png": "[encoded data removed]",
      "text/plain": [
       "<Figure size 511.597x204.68 with 1 Axes>"
      ]
     },
     "execution_count": 30,
     "metadata": {},
     "output_type": "execute_result"
    }
   ],
   "source": [
    "# Exercise 2.5)\n",
    "def qc_hada_ex2_5():\n",
    "    # Create a quantum register with 3 qubits\n",
    "    num_m_qubit = 1\n",
    "    q = QuantumRegister(size = 1, name = 'q')\n",
    "    psi = QuantumRegister(size = num_m_qubit, name = 'psi')\n",
    "    # Create a classical register with 3 bits\n",
    "    c = ClassicalRegister(1, 'c')\n",
    "    \n",
    "    # Create the quantum circuit with the given qubits/cbits\n",
    "    qc = QuantumCircuit(q, psi, c)\n",
    "    ########## FILL YOUR CODE IN HERE ##########\n",
    "    \n",
    "    ## Initialization\n",
    "    qc.barrier()\n",
    "    \n",
    "    ## Gate operation\n",
    "    qc.h(0)\n",
    "    qc.sdg(0)\n",
    "    qc.crz(theta = pi/2, control_qubit = q, target_qubit = psi)\n",
    "    qc.h(0)\n",
    "    qc.barrier()\n",
    "    \n",
    "    ## Measurement\n",
    "    qc.measure(q, c)  \n",
    "    \n",
    "    ########## ---------------------- ##########\n",
    "    return(qc)\n",
    "\n",
    "# Draw the quantum circuit in a different style\n",
    "qc_hada_ex2_5().draw(output='mpl')"
   ]
  },
  {
   "cell_type": "code",
   "execution_count": 32,
   "id": "fcf52495",
   "metadata": {
    "ExecuteTime": {
     "end_time": "2022-08-09T06:18:52.229577Z",
     "start_time": "2022-08-09T06:18:52.167700Z"
    }
   },
   "outputs": [
    {
     "name": "stdout",
     "output_type": "stream",
     "text": [
      "Counts:  {'0': 1170, '1': 7022}\n",
      "Estimated <Z> expectation:  -0.71435546875\n"
     ]
    },
    {
     "data": {
      "image/png": "[encoded data removed]",
      "text/plain": [
       "<Figure size 504x360 with 1 Axes>"
      ]
     },
     "execution_count": 32,
     "metadata": {},
     "output_type": "execute_result"
    }
   ],
   "source": [
    "# Use Aer's qasm_simulators\n",
    "backend_q = Aer.get_backend('qasm_simulator')\n",
    "\n",
    "# Execute the quantum circuit on the qasm simulator\n",
    "num_shots = 8192\n",
    "job_hada_ex2_5 = execute(qc_hada_ex2_5(), backend_q, shots=num_shots)\n",
    "\n",
    "# Get the counts number to estimate the squared inner product.\n",
    "counts_hada_ex2_5 = job_hada_ex2_5.result().get_counts()\n",
    "\n",
    "# print the result\n",
    "print(\"Counts: \", counts_hada_ex2_5)\n",
    "if '1' not in list(counts_hada_ex2_5.keys()):\n",
    "    print(\"Estimated <Z> expectation: \", counts_hada_ex2_5['0']/num_shots)\n",
    "elif '0' not in list(counts_hada_ex2_5.keys()):\n",
    "    print(\"Estimated <Z> expectation: \", counts_hada_ex2_5['1']/num_shots)\n",
    "else: print(\"Estimated <Z> expectation: \", (counts_hada_ex2_5['0']/num_shots - counts_hada_ex2_5['1']/num_shots))\n",
    "plot_histogram(counts_hada_ex2_5)"
   ]
  },
  {
   "cell_type": "markdown",
   "id": "8d00ad32",
   "metadata": {},
   "source": [
    "- In Qiskit, since $R_{z}(\\pi/2)= \\frac{1}{\\sqrt{2}}\\begin{bmatrix} 1-i & 0 \\\\ 0 & 1+i \\end{bmatrix}$, we have $\\langle0|R_{z}(\\pi/2)|0\\rangle = \\frac{1}{\\sqrt{2}}(1-i)$ $\\Rightarrow$ $Im\\big(\\langle0|R_{z}(\\pi/2)|0\\rangle\\big) = -\\frac{1}{\\sqrt{2}} \\approx -0.7071$"
   ]
  },
  {
   "cell_type": "markdown",
   "id": "809a2617",
   "metadata": {},
   "source": []
  }
 ],
 "metadata": {
  "kernelspec": {
   "display_name": "Python 3 (ipykernel)",
   "language": "python",
   "name": "python3"
  },
  "language_info": {
   "codemirror_mode": {
    "name": "ipython",
    "version": 3
   },
   "file_extension": ".py",
   "mimetype": "text/x-python",
   "name": "python",
   "nbconvert_exporter": "python",
   "pygments_lexer": "ipython3",
   "version": "3.8.13"
  },
  "toc": {
   "base_numbering": "0",
   "nav_menu": {},
   "number_sections": false,
   "sideBar": true,
   "skip_h1_title": false,
   "title_cell": "Table of Contents",
   "title_sidebar": "Contents",
   "toc_cell": true,
   "toc_position": {
    "height": "calc(100% - 180px)",
    "left": "10px",
    "top": "150px",
    "width": "277px"
   },
   "toc_section_display": true,
   "toc_window_display": true
  },
  "widgets": {
   "application/vnd.jupyter.widget-state+json": {
    "state": {},
    "version_major": 2,
    "version_minor": 0
   }
  }
 },
 "nbformat": 4,
 "nbformat_minor": 5
}
